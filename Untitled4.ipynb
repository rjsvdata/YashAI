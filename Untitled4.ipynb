{
 "cells": [
  {
   "cell_type": "code",
   "execution_count": 1,
   "id": "641c4dcc",
   "metadata": {},
   "outputs": [
    {
     "name": "stderr",
     "output_type": "stream",
     "text": [
      "[nltk_data] Downloading package words to C:\\Users\\Rajat\n",
      "[nltk_data]     Shrivastava\\AppData\\Roaming\\nltk_data...\n",
      "[nltk_data]   Package words is already up-to-date!\n"
     ]
    },
    {
     "name": "stdout",
     "output_type": "stream",
     "text": [
      "Original word: appricate\n",
      "Corrected word: applicate\n"
     ]
    }
   ],
   "source": [
    "import nltk\n",
    "from nltk.corpus import words\n",
    "from nltk.metrics import edit_distance\n",
    "\n",
    "nltk.download('words')\n",
    "word_list = words.words()\n",
    "\n",
    "def correct_word(word):\n",
    "    distances = [(w, edit_distance(word, w)) for w in word_list]\n",
    "    \n",
    "    sorted_distances = sorted(distances, key=lambda x: x[1])\n",
    "    \n",
    "    return sorted_distances[0][0]\n",
    "\n",
    "misspelled_word = \"appricate\"\n",
    "corrected_word = correct_word(misspelled_word)\n",
    "\n",
    "print(f\"Original word: {misspelled_word}\")\n",
    "print(f\"Corrected word: {corrected_word}\")"
   ]
  },
  {
   "cell_type": "code",
   "execution_count": null,
   "id": "21076297",
   "metadata": {},
   "outputs": [],
   "source": []
  },
  {
   "cell_type": "code",
   "execution_count": null,
   "id": "16e29dd7",
   "metadata": {},
   "outputs": [],
   "source": []
  }
 ],
 "metadata": {
  "kernelspec": {
   "display_name": "Python 3 (ipykernel)",
   "language": "python",
   "name": "python3"
  },
  "language_info": {
   "codemirror_mode": {
    "name": "ipython",
    "version": 3
   },
   "file_extension": ".py",
   "mimetype": "text/x-python",
   "name": "python",
   "nbconvert_exporter": "python",
   "pygments_lexer": "ipython3",
   "version": "3.11.0"
  }
 },
 "nbformat": 4,
 "nbformat_minor": 5
}
